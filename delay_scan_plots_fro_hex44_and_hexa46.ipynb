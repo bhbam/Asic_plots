{
 "cells": [
  {
   "cell_type": "code",
   "execution_count": 2,
   "id": "604b5dae",
   "metadata": {},
   "outputs": [],
   "source": [
    "import os\n",
    "import json\n",
    "import numpy as np\n",
    "import matplotlib.pyplot as plt\n",
    "from numpy import genfromtxt\n",
    "import matplotlib.colors as mcolors\n",
    "import matplotlib.colors as mcolors\n",
    "from scipy import stats\n",
    "import itertools\n",
    "import mplhep as hep\n",
    "plt.style.use([hep.style.ROOT, hep.style.firamath])\n",
    "from glob import glob\n",
    "from sqlite3_database_plot import *\n",
    "\n",
    "def parse_list(s):\n",
    "    return list(map(int, s.strip('[]').split(', ')))\n"
   ]
  },
  {
   "cell_type": "code",
   "execution_count": 2,
   "id": "c42427af",
   "metadata": {},
   "outputs": [],
   "source": [
    "chips = [103,107,111,113,118,122,126]"
   ]
  },
  {
   "cell_type": "code",
   "execution_count": 3,
   "id": "3a787586",
   "metadata": {},
   "outputs": [],
   "source": [
    "hexa44 = glob(\"data_hexa44/chip_*/from_io_delayscan_errorcounts*\")\n",
    "hexa46 = glob(\"data/chip_113/from_io_delayscan_errorcounts*\")\n"
   ]
  },
  {
   "cell_type": "code",
   "execution_count": 32,
   "id": "e14dfd4b",
   "metadata": {},
   "outputs": [
    {
     "data": {
      "text/plain": [
       "['data_hexa44/chip_122/from_io_delayscan_errorcountschip_122.csv',\n",
       " 'data_hexa44/chip_125/from_io_delayscan_errorcountschip_125.csv',\n",
       " 'data_hexa44/chip_113/from_io_delayscan_errorcountschip_113.csv',\n",
       " 'data_hexa44/chip_115/from_io_delayscan_errorcountschip_115.csv',\n",
       " 'data_hexa44/chip_101/from_io_delayscan_errorcountschip_101.csv',\n",
       " 'data_hexa44/chip_107/from_io_delayscan_errorcountschip_107.csv',\n",
       " 'data_hexa44/chip_119/from_io_delayscan_errorcountschip_119.csv',\n",
       " 'data_hexa44/chip_126/from_io_delayscan_errorcountschip_126.csv',\n",
       " 'data_hexa44/chip_117/from_io_delayscan_errorcountschip_117.csv',\n",
       " 'data_hexa44/chip_111/from_io_delayscan_errorcountschip_111.csv',\n",
       " 'data_hexa44/chip_116/from_io_delayscan_errorcountschip_116.csv',\n",
       " 'data_hexa44/chip_118/from_io_delayscan_errorcountschip_118.csv',\n",
       " 'data_hexa44/chip_127/from_io_delayscan_errorcountschip_127.csv',\n",
       " 'data_hexa44/chip_105/from_io_delayscan_errorcountschip_105.csv',\n",
       " 'data_hexa44/chip_103/from_io_delayscan_errorcountschip_103.csv']"
      ]
     },
     "execution_count": 32,
     "metadata": {},
     "output_type": "execute_result"
    }
   ],
   "source": [
    "hexa44"
   ]
  },
  {
   "cell_type": "code",
   "execution_count": 14,
   "id": "2405965e",
   "metadata": {},
   "outputs": [],
   "source": [
    "def consecutive(data, stepsize=1):\n",
    "    return np.split(data, np.where(np.diff(data) != stepsize)[0]+1)\n",
    "\n",
    "def get_max_width(channels, err_counts):\n",
    "    max_width_by_ch = []\n",
    "    second_max_width_by_ch = []\n",
    "    err_wrapped=np.concatenate([err_counts,err_counts[:10]])\n",
    "    for ch in range(channels):\n",
    "        x = err_wrapped[:,ch]\n",
    "        phases = consecutive(np.argwhere(x==0).flatten())\n",
    "        sizes = [np.size(a) for a in phases]\n",
    "        max_width = np.max(sizes)\n",
    "        sizes.remove(max_width)\n",
    "        try:\n",
    "            second_max_width = np.max(sizes)\n",
    "        except:\n",
    "            second_max_width = 0\n",
    "        max_width_by_ch.append(max_width)\n",
    "        second_max_width_by_ch.append(second_max_width)\n",
    "    return np.array([max_width_by_ch,second_max_width_by_ch])"
   ]
  },
  {
   "cell_type": "code",
   "execution_count": 15,
   "id": "94701bfb",
   "metadata": {},
   "outputs": [],
   "source": [
    "def phase_scan_eTx(chip=999, hexa=44 ,out_dir='PLOTS',data=glob(f\"data_hexa44/chip_{999}/from_io_delayscan_errorcounts*\")):\n",
    "    chip_number = f'{chip}_hexa{hexa}'               \n",
    "    data = data[0]\n",
    "    data_eTx = genfromtxt(data,delimiter=',')\n",
    "    x2 = data_eTx[1:,:]\n",
    "    max_eTx_, max2_eTx_ = get_max_width(13,x2)\n",
    "    x2 = np.array(x2)\n",
    "    x2 = np.minimum(x2, 255)\n",
    "    norm = mcolors.TwoSlopeNorm(vmin=0, vmax = 255, vcenter=0.1)\n",
    "    plt.figure(figsize=(15, 10))\n",
    "    \n",
    "    a,b=np.meshgrid(np.arange(13),np.arange(63))\n",
    "    plt.hist2d(a.flatten(),b.flatten(),weights=x2.flatten(),bins=(np.arange(14)-0.5,np.arange(64)-0.5),cmap='bwr',norm=norm);\n",
    "    plt.xticks(np.arange(0,13,1))\n",
    "    plt.colorbar().set_label(label='Data transmission errors')\n",
    "    plt.yticks(np.arange(0,64,4))    \n",
    "    plt.grid(color='white', linestyle='--', linewidth=.5)\n",
    "    plt.title(f\"ECON-T 1.28 GHz output phase scan {chip_number}\")\n",
    "    plt.ylabel('Phase Select Setting')\n",
    "    plt.xlabel('Channel Number')\n",
    "    plt.ylabel('Phase Select Setting')\n",
    "    plt.xlabel('Channel Number')\n",
    "    print(f'{chip_number}------------------------')\n",
    "    print(get_max_width(13,x2))\n",
    "    odir= out_dir \n",
    "    if not os.path.isdir(odir):\n",
    "        os.makedirs(odir)\n",
    "    plt.savefig(f'{out_dir}/phase_scan_eTx_chip_{chip_number}_EconT.png',dpi=300,facecolor='w')\n",
    "    plt.close()\n",
    "    plt.show()\n"
   ]
  },
  {
   "cell_type": "code",
   "execution_count": null,
   "id": "e47d68a2",
   "metadata": {},
   "outputs": [],
   "source": []
  },
  {
   "cell_type": "code",
   "execution_count": 16,
   "id": "86d4e9bd",
   "metadata": {},
   "outputs": [
    {
     "name": "stdout",
     "output_type": "stream",
     "text": [
      "103_hexa44------------------------\n",
      "[[22 20 18 21 18 18 19 17 19 21 19 18 19]\n",
      " [17 15 18 18 17 17 18 16 19 16 18 17 17]]\n",
      "103_hexa46------------------------\n",
      "[[15 16 26 17 23 25 22 23 22 17 25 25 25]\n",
      " [14 15 17 17 17 16 18 16 18 16 17 18 17]]\n",
      "107_hexa44------------------------\n",
      "[[16 22 22 23 19 21 18 19 18 23 21 21 23]\n",
      " [16 15 17 17 16 16 17 16 17 17 19 18 16]]\n",
      "107_hexa46------------------------\n",
      "[[15 15 17 16 23 16 23 22 23 16 25 25 16]\n",
      " [14 14 16 16 16 15 17 16 17 15 18 18 16]]\n",
      "111_hexa44------------------------\n",
      "[[16 23 21 22 19 21 18 20 19 22 19 19 21]\n",
      " [15 17 19 17 18 18 17 19 18 17 17 18 17]]\n",
      "111_hexa46------------------------\n",
      "[[15 15 17 16 24 16 22 24 22 16 24 24 16]\n",
      " [14 15 15 16 16 16 17 16 18 15 16 18 16]]\n",
      "113_hexa44------------------------\n",
      "[[15 21 23 17 21 21 18 22 19 16 21 22 21]\n",
      " [15 17 17 17 17 15 17 18 18 15 17 17 16]]\n",
      "113_hexa46------------------------\n",
      "[[15 16 16 16 23 16 24 15 24 16 17 17 16]\n",
      " [14 15 16 15 16 15 16 15 17 15 16 17 15]]\n",
      "118_hexa44------------------------\n",
      "[[16 22 20 22 17 20 17 19 16 22 19 20 21]\n",
      " [16 15 17 17 16 16 16 15 16 15 17 17 16]]\n",
      "118_hexa46------------------------\n",
      "[[15 15 17 16 24 16 23 15 24 17 17 17 17]\n",
      " [15 14 16 15 17 15 17 15 17 15 16 16 16]]\n",
      "122_hexa44------------------------\n",
      "[[16 22 21 21 18 21 17 19 18 22 21 21 23]\n",
      " [16 15 17 16 17 16 16 16 17 15 18 18 17]]\n",
      "122_hexa46------------------------\n",
      "[[14 15 25 15 26 16 24 16 23 17 17 25 17]\n",
      " [14 15 18 15 18 15 17 16 18 16 16 17 16]]\n",
      "126_hexa44------------------------\n",
      "[[16 20 23 17 20 20 17 21 18 16 21 21 21]\n",
      " [15 16 16 16 17 16 17 17 17 15 16 17 17]]\n",
      "126_hexa46------------------------\n",
      "[[15 16 24 16 23 24 21 23 21 17 24 25 16]\n",
      " [14 16 17 16 16 16 17 17 18 16 17 17 16]]\n"
     ]
    }
   ],
   "source": [
    "for chip in chips:\n",
    "    phase_scan_eTx(chip=chip, hexa=44,out_dir='eTx_plots',data=glob(f\"data_hexa44/chip_{chip}/from_io_delayscan_errorcounts*\"))\n",
    "    phase_scan_eTx(chip=chip, hexa=46,out_dir='eTx_plots',data=glob(f\"data/chip_{chip}/from_io_delayscan_errorcounts*\"))\n",
    "    \n",
    "    \n",
    "    \n",
    "    \n",
    "    "
   ]
  },
  {
   "cell_type": "code",
   "execution_count": 1,
   "id": "77bf2719",
   "metadata": {},
   "outputs": [
    {
     "ename": "NameError",
     "evalue": "name 'glob' is not defined",
     "output_type": "error",
     "traceback": [
      "\u001b[0;31m---------------------------------------------------------------------------\u001b[0m",
      "\u001b[0;31mNameError\u001b[0m                                 Traceback (most recent call last)",
      "Cell \u001b[0;32mIn[1], line 1\u001b[0m\n\u001b[0;32m----> 1\u001b[0m \u001b[38;5;28;01mdef\u001b[39;00m \u001b[38;5;21mphase_scan_eTx\u001b[39m(chip\u001b[38;5;241m=\u001b[39m\u001b[38;5;241m999\u001b[39m, hexa\u001b[38;5;241m=\u001b[39m\u001b[38;5;241m44\u001b[39m ,out_dir\u001b[38;5;241m=\u001b[39m\u001b[38;5;124m'\u001b[39m\u001b[38;5;124mPLOTS\u001b[39m\u001b[38;5;124m'\u001b[39m,data\u001b[38;5;241m=\u001b[39m\u001b[43mglob\u001b[49m(\u001b[38;5;124mf\u001b[39m\u001b[38;5;124m\"\u001b[39m\u001b[38;5;124mdata_hexa44/chip_\u001b[39m\u001b[38;5;132;01m{\u001b[39;00m\u001b[38;5;241m999\u001b[39m\u001b[38;5;132;01m}\u001b[39;00m\u001b[38;5;124m/from_io_delayscan_errorcounts*\u001b[39m\u001b[38;5;124m\"\u001b[39m)):\n\u001b[1;32m      2\u001b[0m     norm \u001b[38;5;241m=\u001b[39m mcolors\u001b[38;5;241m.\u001b[39mTwoSlopeNorm(vmin\u001b[38;5;241m=\u001b[39m\u001b[38;5;241m0\u001b[39m, vmax \u001b[38;5;241m=\u001b[39m \u001b[38;5;241m255\u001b[39m, vcenter\u001b[38;5;241m=\u001b[39m\u001b[38;5;241m0.1\u001b[39m)\n\u001b[1;32m      3\u001b[0m     plt\u001b[38;5;241m.\u001b[39mfigure(figsize\u001b[38;5;241m=\u001b[39m(\u001b[38;5;241m15\u001b[39m, \u001b[38;5;241m10\u001b[39m))\n",
      "\u001b[0;31mNameError\u001b[0m: name 'glob' is not defined"
     ]
    }
   ],
   "source": [
    "def phase_scan_eTx(chip=999, hexa=44 ,out_dir='PLOTS',data=glob(f\"data_hexa44/chip_{999}/from_io_delayscan_errorcounts*\")):\n",
    "    norm = mcolors.TwoSlopeNorm(vmin=0, vmax = 255, vcenter=0.1)\n",
    "    plt.figure(figsize=(15, 10))\n",
    "    \n",
    "    a,b=np.meshgrid(np.arange(13),np.arange(63))\n",
    "    plt.hist2d(a.flatten(),b.flatten(),weights=x2.flatten(),bins=(np.arange(14)-0.5,np.arange(64)-0.5),cmap='bwr',norm=norm);\n",
    "    plt.xticks(np.arange(0,13,1))\n",
    "    plt.colorbar().set_label(label='Data transmission errors')\n",
    "    plt.yticks(np.arange(0,64,4))    \n",
    "    plt.grid(color='white', linestyle='--', linewidth=.5)\n",
    "    plt.title(f\"ECON-T 1.28 GHz output phase scan {chip_number}\")\n",
    "    plt.ylabel('Phase Select Setting')\n",
    "    plt.xlabel('Channel Number')\n",
    "    plt.ylabel('Phase Select Setting')\n",
    "    plt.xlabel('Channel Number')"
   ]
  },
  {
   "cell_type": "code",
   "execution_count": null,
   "id": "21d222f4",
   "metadata": {},
   "outputs": [],
   "source": []
  },
  {
   "cell_type": "code",
   "execution_count": null,
   "id": "1918cb05",
   "metadata": {},
   "outputs": [],
   "source": []
  },
  {
   "cell_type": "code",
   "execution_count": null,
   "id": "e955d38f",
   "metadata": {},
   "outputs": [],
   "source": []
  }
 ],
 "metadata": {
  "kernelspec": {
   "display_name": "Python 3 (ipykernel)",
   "language": "python",
   "name": "python3"
  },
  "language_info": {
   "codemirror_mode": {
    "name": "ipython",
    "version": 3
   },
   "file_extension": ".py",
   "mimetype": "text/x-python",
   "name": "python",
   "nbconvert_exporter": "python",
   "pygments_lexer": "ipython3",
   "version": "3.11.3"
  }
 },
 "nbformat": 4,
 "nbformat_minor": 5
}
